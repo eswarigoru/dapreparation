{
  "nbformat": 4,
  "nbformat_minor": 0,
  "metadata": {
    "colab": {
      "provenance": [],
      "authorship_tag": "ABX9TyMPfTNl5QJPOrqLqCqp//pp",
      "include_colab_link": true
    },
    "kernelspec": {
      "name": "python3",
      "display_name": "Python 3"
    },
    "language_info": {
      "name": "python"
    }
  },
  "cells": [
    {
      "cell_type": "markdown",
      "metadata": {
        "id": "view-in-github",
        "colab_type": "text"
      },
      "source": [
        "<a href=\"https://colab.research.google.com/github/eswarigoru/dapreparation/blob/main/DataScience_Introduction.ipynb\" target=\"_parent\"><img src=\"https://colab.research.google.com/assets/colab-badge.svg\" alt=\"Open In Colab\"/></a>"
      ]
    },
    {
      "cell_type": "markdown",
      "source": [],
      "metadata": {
        "id": "0Gf91koNTUt_"
      }
    },
    {
      "cell_type": "markdown",
      "source": [
        "**Data** is nothing but information that has been traslated into a form that is efficient for processing"
      ],
      "metadata": {
        "id": "7DIpou3-Td8p"
      }
    },
    {
      "cell_type": "markdown",
      "source": [
        "**Data** is of two types\n",
        "1.**Continuous**\n",
        "2.**Catagorical**\n"
      ],
      "metadata": {
        "id": "BCr0HGlfT-kV"
      }
    },
    {
      "cell_type": "markdown",
      "source": [
        "1.**Continuous** data is a data that can take any value.\n",
        "Example :The speed of cars,\n",
        "         The amount of rainfall in inches,\n",
        "         Time to sleep. etc.\n",
        "2.**Catagorical** data is a type of qualitatative data that can be grouped into catagories instead of being measured numerically.\n",
        "Examples of categorica variables are sex,race,age group, educational level etc."
      ],
      "metadata": {
        "id": "5Uv3FupgXPWA"
      }
    },
    {
      "cell_type": "code",
      "source": [
        "list= [1,2,4,7,9,12,45,76,89,23]\n",
        "from statistics import mean\n",
        "mean_list=mean(list)\n",
        "print (\"The mean value of list is\", mean_list)\n"
      ],
      "metadata": {
        "colab": {
          "base_uri": "https://localhost:8080/"
        },
        "id": "SwxnqwcMqTJb",
        "outputId": "09d3580b-2399-4d11-ffd5-b7ebc8d41a7b"
      },
      "execution_count": null,
      "outputs": [
        {
          "output_type": "stream",
          "name": "stdout",
          "text": [
            "The mean value of list is 26.8\n"
          ]
        }
      ]
    },
    {
      "cell_type": "code",
      "source": [
        "p=int(input(\"Enter Principal=\"))\n",
        "t=int(input(\"Enter Time(in years)=\"))\n",
        "r=int(input(\"Enter Rate(%)=\"))\n",
        "si=(p*t*r)/100\n",
        "print(\"Simple Interest=\",si)\n",
        "a=p+si\n",
        "print(\"Amount=\",a)\n"
      ],
      "metadata": {
        "id": "5-b-jtLzsVsN",
        "outputId": "2e765a2b-48e3-4f3f-bdc7-f1ab1ed5cb27",
        "colab": {
          "base_uri": "https://localhost:8080/"
        }
      },
      "execution_count": null,
      "outputs": [
        {
          "output_type": "stream",
          "name": "stdout",
          "text": [
            "Enter Principal=1000\n",
            "Enter Time(in years)=2\n",
            "Enter Rate(%)=5\n",
            "Simple Interest= 100.0\n",
            "Amount= 1100.0\n"
          ]
        }
      ]
    },
    {
      "cell_type": "code",
      "source": [
        "list=[-8,0.9,\"tax\",-98,0.07,12,2/3,5/6,12,23,-90]\n"
      ],
      "metadata": {
        "id": "sQYY3HcQKTXw"
      },
      "execution_count": null,
      "outputs": []
    },
    {
      "cell_type": "code",
      "source": [
        "print(list[-1])"
      ],
      "metadata": {
        "id": "WVEKemVqwfXO",
        "outputId": "55b58ba1-eaba-4e8d-f8a5-689787c2f3a6",
        "colab": {
          "base_uri": "https://localhost:8080/"
        }
      },
      "execution_count": null,
      "outputs": [
        {
          "output_type": "stream",
          "name": "stdout",
          "text": [
            "-90\n"
          ]
        }
      ]
    },
    {
      "cell_type": "code",
      "source": [
        "list=[[\"one\",\"two\"],[34,76]]#nested list"
      ],
      "metadata": {
        "id": "1YsNF6zRxRAE"
      },
      "execution_count": null,
      "outputs": []
    },
    {
      "cell_type": "code",
      "source": [
        "print(list)"
      ],
      "metadata": {
        "id": "J1vlPgTSyaS0",
        "outputId": "c58f025f-8ad1-49bd-a655-3e439caa3679",
        "colab": {
          "base_uri": "https://localhost:8080/"
        }
      },
      "execution_count": null,
      "outputs": [
        {
          "output_type": "stream",
          "name": "stdout",
          "text": [
            "[['one', 'two'], [34, 76]]\n"
          ]
        }
      ]
    },
    {
      "cell_type": "code",
      "source": [
        "print(list[0])"
      ],
      "metadata": {
        "id": "jaldUBf8yvud",
        "outputId": "456c16a0-66e9-428c-b6eb-183c813d6ae7",
        "colab": {
          "base_uri": "https://localhost:8080/"
        }
      },
      "execution_count": null,
      "outputs": [
        {
          "output_type": "stream",
          "name": "stdout",
          "text": [
            "['one', 'two']\n"
          ]
        }
      ]
    },
    {
      "cell_type": "code",
      "source": [
        "\n",
        "list.append(89)"
      ],
      "metadata": {
        "id": "bKuHIRvxzLuo"
      },
      "execution_count": null,
      "outputs": []
    },
    {
      "cell_type": "code",
      "source": [
        "print(list)"
      ],
      "metadata": {
        "id": "gCOMeJIE02lX",
        "outputId": "8bb5b8d2-3e3f-4add-f25e-054816c07516",
        "colab": {
          "base_uri": "https://localhost:8080/"
        }
      },
      "execution_count": null,
      "outputs": [
        {
          "output_type": "stream",
          "name": "stdout",
          "text": [
            "[-8, 0.9, 'tax', -98, 0.07, 12, 0.6666666666666666, 0.8333333333333334, 23, -90, 89]\n"
          ]
        }
      ]
    },
    {
      "cell_type": "code",
      "source": [
        "list.insert(3,49)\n",
        "print(list)"
      ],
      "metadata": {
        "id": "9fTlDqNa1ts7",
        "outputId": "e4bdb672-548f-4299-cb8e-ef7a44361aad",
        "colab": {
          "base_uri": "https://localhost:8080/"
        }
      },
      "execution_count": null,
      "outputs": [
        {
          "output_type": "stream",
          "name": "stdout",
          "text": [
            "[-8, 0.9, 'tax', 49, -98, 0.07, 12, 0.6666666666666666, 0.8333333333333334, 23, -90, 89]\n"
          ]
        }
      ]
    },
    {
      "cell_type": "code",
      "source": [
        "list.remove(89)"
      ],
      "metadata": {
        "id": "ujeEN7ZS2lbw"
      },
      "execution_count": null,
      "outputs": []
    },
    {
      "cell_type": "code",
      "source": [
        "print(list)"
      ],
      "metadata": {
        "id": "cROKVYP22wJz",
        "outputId": "14992ba3-b5b0-40ce-9b19-5d79b0809947",
        "colab": {
          "base_uri": "https://localhost:8080/"
        }
      },
      "execution_count": null,
      "outputs": [
        {
          "output_type": "stream",
          "name": "stdout",
          "text": [
            "[-8, 0.9, 'tax', 49, -98, 0.07, 12, 0.6666666666666666, 0.8333333333333334, 23, -90]\n"
          ]
        }
      ]
    },
    {
      "cell_type": "code",
      "source": [
        "list.index(23)"
      ],
      "metadata": {
        "id": "W95FNitg2yQb",
        "outputId": "c969bf4f-7747-4709-d61d-d74aaa637cc4",
        "colab": {
          "base_uri": "https://localhost:8080/"
        }
      },
      "execution_count": null,
      "outputs": [
        {
          "output_type": "execute_result",
          "data": {
            "text/plain": [
              "9"
            ]
          },
          "metadata": {},
          "execution_count": 22
        }
      ]
    },
    {
      "cell_type": "code",
      "source": [
        "len(list)"
      ],
      "metadata": {
        "id": "yPAlIOGY24tm",
        "outputId": "9598fd7f-f00f-43ca-ac8d-cbde7da03269",
        "colab": {
          "base_uri": "https://localhost:8080/"
        }
      },
      "execution_count": null,
      "outputs": [
        {
          "output_type": "execute_result",
          "data": {
            "text/plain": [
              "11"
            ]
          },
          "metadata": {},
          "execution_count": 23
        }
      ]
    },
    {
      "cell_type": "code",
      "source": [
        "list.count(12)"
      ],
      "metadata": {
        "id": "T1z8wFJk3I86",
        "outputId": "4374709f-8d0e-4e7a-ef77-fb3a17b81290",
        "colab": {
          "base_uri": "https://localhost:8080/"
        }
      },
      "execution_count": null,
      "outputs": [
        {
          "output_type": "execute_result",
          "data": {
            "text/plain": [
              "2"
            ]
          },
          "metadata": {},
          "execution_count": 25
        }
      ]
    },
    {
      "cell_type": "code",
      "source": [
        "list.reverse()"
      ],
      "metadata": {
        "id": "gepfA_EB3lUk"
      },
      "execution_count": null,
      "outputs": []
    },
    {
      "cell_type": "code",
      "source": [
        "list"
      ],
      "metadata": {
        "id": "NCMucP8k3tmD",
        "outputId": "ca61fa24-f0aa-4b35-bf0f-67c79693c2d7",
        "colab": {
          "base_uri": "https://localhost:8080/"
        }
      },
      "execution_count": null,
      "outputs": [
        {
          "output_type": "execute_result",
          "data": {
            "text/plain": [
              "[-90,\n",
              " 23,\n",
              " 12,\n",
              " 0.8333333333333334,\n",
              " 0.6666666666666666,\n",
              " 12,\n",
              " 0.07,\n",
              " -98,\n",
              " 'tax',\n",
              " 0.9,\n",
              " -8]"
            ]
          },
          "metadata": {},
          "execution_count": 27
        }
      ]
    },
    {
      "cell_type": "code",
      "source": [
        "list[:-1]"
      ],
      "metadata": {
        "id": "a7PGXs8I3wks",
        "outputId": "055c691f-e038-48aa-d0c2-b25e3168ee72",
        "colab": {
          "base_uri": "https://localhost:8080/"
        }
      },
      "execution_count": null,
      "outputs": [
        {
          "output_type": "execute_result",
          "data": {
            "text/plain": [
              "[-90,\n",
              " 23,\n",
              " 12,\n",
              " 0.8333333333333334,\n",
              " 0.6666666666666666,\n",
              " 12,\n",
              " 0.07,\n",
              " -98,\n",
              " 'tax',\n",
              " 0.9]"
            ]
          },
          "metadata": {},
          "execution_count": 32
        }
      ]
    },
    {
      "cell_type": "code",
      "source": [],
      "metadata": {
        "id": "g5JrzUD94IMX"
      },
      "execution_count": null,
      "outputs": []
    }
  ]
}