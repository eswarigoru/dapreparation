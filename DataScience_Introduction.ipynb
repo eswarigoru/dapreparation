{
  "nbformat": 4,
  "nbformat_minor": 0,
  "metadata": {
    "colab": {
      "provenance": [],
      "authorship_tag": "ABX9TyPhwm0P+NKDyd42kg11zQ3P",
      "include_colab_link": true
    },
    "kernelspec": {
      "name": "python3",
      "display_name": "Python 3"
    },
    "language_info": {
      "name": "python"
    }
  },
  "cells": [
    {
      "cell_type": "markdown",
      "metadata": {
        "id": "view-in-github",
        "colab_type": "text"
      },
      "source": [
        "<a href=\"https://colab.research.google.com/github/eswarigoru/dapreparation/blob/main/DataScience_Introduction.ipynb\" target=\"_parent\"><img src=\"https://colab.research.google.com/assets/colab-badge.svg\" alt=\"Open In Colab\"/></a>"
      ]
    },
    {
      "cell_type": "markdown",
      "source": [],
      "metadata": {
        "id": "0Gf91koNTUt_"
      }
    },
    {
      "cell_type": "markdown",
      "source": [
        "Data is nothing but information that has been traslated into a form that is efficient for processing"
      ],
      "metadata": {
        "id": "7DIpou3-Td8p"
      }
    },
    {
      "cell_type": "markdown",
      "source": [
        "Data is of two types\n",
        "1.Continuous\n",
        "2.Catagorical"
      ],
      "metadata": {
        "id": "BCr0HGlfT-kV"
      }
    }
  ]
}