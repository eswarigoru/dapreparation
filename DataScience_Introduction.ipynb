{
  "nbformat": 4,
  "nbformat_minor": 0,
  "metadata": {
    "colab": {
      "provenance": [],
      "authorship_tag": "ABX9TyPmiYZWiKLNkM+jyIgWgz78",
      "include_colab_link": true
    },
    "kernelspec": {
      "name": "python3",
      "display_name": "Python 3"
    },
    "language_info": {
      "name": "python"
    }
  },
  "cells": [
    {
      "cell_type": "markdown",
      "metadata": {
        "id": "view-in-github",
        "colab_type": "text"
      },
      "source": [
        "<a href=\"https://colab.research.google.com/github/eswarigoru/dapreparation/blob/main/DataScience_Introduction.ipynb\" target=\"_parent\"><img src=\"https://colab.research.google.com/assets/colab-badge.svg\" alt=\"Open In Colab\"/></a>"
      ]
    },
    {
      "cell_type": "markdown",
      "source": [],
      "metadata": {
        "id": "0Gf91koNTUt_"
      }
    },
    {
      "cell_type": "markdown",
      "source": [
        "**Data** is nothing but information that has been traslated into a form that is efficient for processing"
      ],
      "metadata": {
        "id": "7DIpou3-Td8p"
      }
    },
    {
      "cell_type": "markdown",
      "source": [
        "**Data** is of two types\n",
        "1.**Continuous**\n",
        "2.**Catagorical**\n"
      ],
      "metadata": {
        "id": "BCr0HGlfT-kV"
      }
    },
    {
      "cell_type": "markdown",
      "source": [
        "1.**Continuous** data is a data that can take any value.\n",
        "Example :The speed of cars,\n",
        "         The amount of rainfall in inches,\n",
        "         Time to sleep. etc.\n",
        "2.**Catagorical** data is a type of qualitatative data that can be grouped into catagories instead of being measured numerically.\n",
        "Examples of categorica variables are sex,race,age group, educational level etc."
      ],
      "metadata": {
        "id": "5Uv3FupgXPWA"
      }
    },
    {
      "cell_type": "code",
      "source": [
        "list= [1,2,4,7,9,12,45,76,89,23]\n",
        "from statistics import mean\n",
        "mean_list=mean(list)\n",
        "print (\"The mean value of list is\", mean_list)\n"
      ],
      "metadata": {
        "colab": {
          "base_uri": "https://localhost:8080/"
        },
        "id": "SwxnqwcMqTJb",
        "outputId": "09d3580b-2399-4d11-ffd5-b7ebc8d41a7b"
      },
      "execution_count": null,
      "outputs": [
        {
          "output_type": "stream",
          "name": "stdout",
          "text": [
            "The mean value of list is 26.8\n"
          ]
        }
      ]
    },
    {
      "cell_type": "code",
      "source": [
        "p=int(input(\"Enter Principal=\"))\n",
        "t=int(input(\"Enter Time(in years)=\"))\n",
        "r=int(input(\"Enter Rate(%)=\"))\n",
        "si=(p*t*r)/100\n",
        "print(\"Simple Interest=\",si)\n",
        "a=p+si\n",
        "print(\"Amount=\",a)\n"
      ],
      "metadata": {
        "id": "5-b-jtLzsVsN",
        "outputId": "2e765a2b-48e3-4f3f-bdc7-f1ab1ed5cb27",
        "colab": {
          "base_uri": "https://localhost:8080/"
        }
      },
      "execution_count": 1,
      "outputs": [
        {
          "output_type": "stream",
          "name": "stdout",
          "text": [
            "Enter Principal=1000\n",
            "Enter Time(in years)=2\n",
            "Enter Rate(%)=5\n",
            "Simple Interest= 100.0\n",
            "Amount= 1100.0\n"
          ]
        }
      ]
    },
    {
      "cell_type": "code",
      "source": [],
      "metadata": {
        "id": "sQYY3HcQKTXw"
      },
      "execution_count": null,
      "outputs": []
    }
  ]
}