{
  "nbformat": 4,
  "nbformat_minor": 0,
  "metadata": {
    "colab": {
      "provenance": [],
      "authorship_tag": "ABX9TyOCwx439WCMpBj7bWV/bEhx",
      "include_colab_link": true
    },
    "kernelspec": {
      "name": "python3",
      "display_name": "Python 3"
    },
    "language_info": {
      "name": "python"
    }
  },
  "cells": [
    {
      "cell_type": "markdown",
      "metadata": {
        "id": "view-in-github",
        "colab_type": "text"
      },
      "source": [
        "<a href=\"https://colab.research.google.com/github/eswarigoru/dapreparation/blob/main/DataScience_Introduction.ipynb\" target=\"_parent\"><img src=\"https://colab.research.google.com/assets/colab-badge.svg\" alt=\"Open In Colab\"/></a>"
      ]
    },
    {
      "cell_type": "markdown",
      "source": [],
      "metadata": {
        "id": "0Gf91koNTUt_"
      }
    },
    {
      "cell_type": "markdown",
      "source": [
        "**Data** is nothing but information that has been traslated into a form that is efficient for processing"
      ],
      "metadata": {
        "id": "7DIpou3-Td8p"
      }
    },
    {
      "cell_type": "markdown",
      "source": [
        "**Data** is of two types\n",
        "1.**Continuous**\n",
        "2.**Catagorical**\n"
      ],
      "metadata": {
        "id": "BCr0HGlfT-kV"
      }
    },
    {
      "cell_type": "markdown",
      "source": [
        "1.**Continuous** data is a data that can take any value.\n",
        "Example :The speed of cars,\n",
        "         The amount of rainfall in inches,\n",
        "         Time to sleep. etc.\n",
        "2.**Catagorical** data is a type of qualitatative data that can be grouped into catagories instead of being measured numerically.\n",
        "Examples of categorica variables are sex,race,age group, educational level etc."
      ],
      "metadata": {
        "id": "5Uv3FupgXPWA"
      }
    }
  ]
}